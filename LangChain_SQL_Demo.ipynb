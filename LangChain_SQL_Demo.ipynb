{
  "nbformat": 4,
  "nbformat_minor": 0,
  "metadata": {
    "colab": {
      "provenance": []
    },
    "kernelspec": {
      "name": "python3",
      "display_name": "Python 3"
    },
    "language_info": {
      "name": "python"
    }
  },
  "cells": [
    {
      "cell_type": "markdown",
      "source": [
        "---\n",
        "# LangChain SQL Microservice with Jupyter Notebook\n",
        "\n",
        "## Introduction\n",
        "This notebook specifically focuses on setting up the Chinook database and integrating LangChain for seamless data querying.\n",
        "\n",
        "## Prerequisites\n",
        "- Basic knowledge of Python and SQL.\n",
        "- An environment for running Jupyter Notebooks (e.g., Google Colab, JupyterLab).\n",
        "\n",
        "## Installation\n",
        "Clone the repository to your local machine or open it in a Jupyter Notebook compatible environment:\n",
        "```\n",
        "git clone [repository-link]\n",
        "```\n",
        "\n",
        "## Setting Up\n",
        "1. **Install Dependencies**: Run the following command in your notebook to install necessary packages.\n",
        "   ```python\n",
        "   !pip install langchain langchain-experimental openai\n",
        "   ```\n",
        "2. **Configure OpenAI API Key**: Replace `'your_api_key_here'` with your actual OpenAI API key.\n",
        "   ```python\n",
        "   import os\n",
        "   os.environ['OPENAI_API_KEY'] = 'your_api_key_here'\n",
        "   ```\n",
        "\n",
        "## Usage\n",
        "1. **Initialize LangChain with SQLDatabaseChain**:\n",
        "   ```python\n",
        "    from langchain.llms import OpenAI\n",
        "    from langchain.utilities import SQLDatabase\n",
        "    from langchain_experimental.sql import SQLDatabaseChain\n",
        "\n",
        "    # Connect to the Chinook database\n",
        "    db = SQLDatabase.from_uri(\"sqlite:///Chinook.db\")\n",
        "    llm = OpenAI(temperature=0, verbose=True)\n",
        "    db_chain = SQLDatabaseChain.from_llm(llm, db, verbose=True)\n",
        "   ```\n",
        "\n",
        "2. **Querying the Database**: Use natural language prompts to query the database.\n",
        "   ```python\n",
        "    try:\n",
        "        response = db_chain.run(\"How many employees are there?\")\n",
        "        print(\"Response:\", response)\n",
        "    except Exception as e:\n",
        "        print(\"Error:\", e)\n",
        "\n",
        "   ```\n",
        "\n",
        "## Deep Dive into SQL Queries\n",
        "- Explore advanced SQL queries constructed from user questions using LangChain.\n",
        "- Example code snippets are provided in the notebook.\n",
        "\n",
        "## Enhancing the Microservice\n",
        "- Customization of the database description.\n",
        "- Implementation of error recovery with SQL agents.\n",
        "\n",
        "## Testing\n",
        "- Test cases are included to demonstrate the functionality of the microservice.\n",
        "- Follow the interactive code cells for experimenting with the microservice.\n",
        "\n",
        "## Contributing\n",
        "Contributions to this project are welcome. Please adhere to the following guidelines:\n",
        "1. Fork the repository.\n",
        "2. Create a new branch for your feature.\n",
        "3. Commit your changes.\n",
        "4. Push to the branch.\n",
        "5. Create a new Pull Request.\n",
        "\n",
        "## License\n",
        "MIT License\n",
        "\n",
        "---"
      ],
      "metadata": {
        "id": "MeSTkJjvV7MB"
      }
    },
    {
      "cell_type": "code",
      "execution_count": null,
      "metadata": {
        "id": "cq1uM9Irzm4I"
      },
      "outputs": [],
      "source": [
        "%%bash\n",
        "pip install langchain langchain-experimental openai"
      ]
    },
    {
      "cell_type": "code",
      "source": [
        "import os\n",
        "import openai\n",
        "\n",
        "os.environ['OPENAI_API_KEY'] = \"your-api-key\""
      ],
      "metadata": {
        "id": "dIpuL9wn0Odo"
      },
      "execution_count": null,
      "outputs": []
    },
    {
      "cell_type": "code",
      "source": [
        "%%bash\n",
        "wget https://raw.githubusercontent.com/lerocha/chinook-database/master/ChinookDatabase/DataSources/Chinook_Sqlite.sql\n",
        "apt-get install sqlite3"
      ],
      "metadata": {
        "colab": {
          "base_uri": "https://localhost:8080/"
        },
        "id": "C9TCBH-y_I-X",
        "outputId": "218e79f5-af7f-43a9-e1e4-556dd211bbc2"
      },
      "execution_count": null,
      "outputs": [
        {
          "output_type": "stream",
          "name": "stdout",
          "text": [
            "Reading package lists...\n",
            "Building dependency tree...\n",
            "Reading state information...\n",
            "Suggested packages:\n",
            "  sqlite3-doc\n",
            "The following NEW packages will be installed:\n",
            "  sqlite3\n",
            "0 upgraded, 1 newly installed, 0 to remove and 15 not upgraded.\n",
            "Need to get 768 kB of archives.\n",
            "After this operation, 1,873 kB of additional disk space will be used.\n",
            "Get:1 http://archive.ubuntu.com/ubuntu jammy-updates/main amd64 sqlite3 amd64 3.37.2-2ubuntu0.1 [768 kB]\n",
            "Fetched 768 kB in 0s (1,737 kB/s)\n",
            "Selecting previously unselected package sqlite3.\r\n",
            "(Reading database ... \r(Reading database ... 5%\r(Reading database ... 10%\r(Reading database ... 15%\r(Reading database ... 20%\r(Reading database ... 25%\r(Reading database ... 30%\r(Reading database ... 35%\r(Reading database ... 40%\r(Reading database ... 45%\r(Reading database ... 50%\r(Reading database ... 55%\r(Reading database ... 60%\r(Reading database ... 65%\r(Reading database ... 70%\r(Reading database ... 75%\r(Reading database ... 80%\r(Reading database ... 85%\r(Reading database ... 90%\r(Reading database ... 95%\r(Reading database ... 100%\r(Reading database ... 120882 files and directories currently installed.)\r\n",
            "Preparing to unpack .../sqlite3_3.37.2-2ubuntu0.1_amd64.deb ...\r\n",
            "Unpacking sqlite3 (3.37.2-2ubuntu0.1) ...\r\n",
            "Setting up sqlite3 (3.37.2-2ubuntu0.1) ...\r\n",
            "Processing triggers for man-db (2.10.2-1) ...\r\n"
          ]
        },
        {
          "output_type": "stream",
          "name": "stderr",
          "text": [
            "--2023-12-02 19:24:27--  https://raw.githubusercontent.com/lerocha/chinook-database/master/ChinookDatabase/DataSources/Chinook_Sqlite.sql\n",
            "Resolving raw.githubusercontent.com (raw.githubusercontent.com)... 185.199.108.133, 185.199.109.133, 185.199.110.133, ...\n",
            "Connecting to raw.githubusercontent.com (raw.githubusercontent.com)|185.199.108.133|:443... connected.\n",
            "HTTP request sent, awaiting response... 200 OK\n",
            "Length: 1864746 (1.8M) [text/plain]\n",
            "Saving to: ‘Chinook_Sqlite.sql’\n",
            "\n",
            "     0K .......... .......... .......... .......... ..........  2% 2.32M 1s\n",
            "    50K .......... .......... .......... .......... ..........  5% 12.0M 0s\n",
            "   100K .......... .......... .......... .......... ..........  8% 5.69M 0s\n",
            "   150K .......... .......... .......... .......... .......... 10% 18.1M 0s\n",
            "   200K .......... .......... .......... .......... .......... 13% 44.6M 0s\n",
            "   250K .......... .......... .......... .......... .......... 16% 6.66M 0s\n",
            "   300K .......... .......... .......... .......... .......... 19% 82.5M 0s\n",
            "   350K .......... .......... .......... .......... .......... 21% 30.3M 0s\n",
            "   400K .......... .......... .......... .......... .......... 24% 52.6M 0s\n",
            "   450K .......... .......... .......... .......... .......... 27% 41.8M 0s\n",
            "   500K .......... .......... .......... .......... .......... 30% 11.1M 0s\n",
            "   550K .......... .......... .......... .......... .......... 32% 33.3M 0s\n",
            "   600K .......... .......... .......... .......... .......... 35% 33.7M 0s\n",
            "   650K .......... .......... .......... .......... .......... 38% 55.8M 0s\n",
            "   700K .......... .......... .......... .......... .......... 41% 77.1M 0s\n",
            "   750K .......... .......... .......... .......... .......... 43% 92.8M 0s\n",
            "   800K .......... .......... .......... .......... .......... 46% 69.5M 0s\n",
            "   850K .......... .......... .......... .......... .......... 49% 68.9M 0s\n",
            "   900K .......... .......... .......... .......... .......... 52% 61.8M 0s\n",
            "   950K .......... .......... .......... .......... .......... 54% 94.7M 0s\n",
            "  1000K .......... .......... .......... .......... .......... 57% 15.2M 0s\n",
            "  1050K .......... .......... .......... .......... .......... 60% 73.6M 0s\n",
            "  1100K .......... .......... .......... .......... .......... 63% 59.7M 0s\n",
            "  1150K .......... .......... .......... .......... .......... 65% 42.4M 0s\n",
            "  1200K .......... .......... .......... .......... .......... 68% 84.2M 0s\n",
            "  1250K .......... .......... .......... .......... .......... 71% 78.6M 0s\n",
            "  1300K .......... .......... .......... .......... .......... 74% 75.1M 0s\n",
            "  1350K .......... .......... .......... .......... .......... 76% 87.0M 0s\n",
            "  1400K .......... .......... .......... .......... .......... 79% 68.4M 0s\n",
            "  1450K .......... .......... .......... .......... .......... 82% 77.4M 0s\n",
            "  1500K .......... .......... .......... .......... .......... 85% 94.3M 0s\n",
            "  1550K .......... .......... .......... .......... .......... 87%  121M 0s\n",
            "  1600K .......... .......... .......... .......... .......... 90% 81.6M 0s\n",
            "  1650K .......... .......... .......... .......... .......... 93% 87.8M 0s\n",
            "  1700K .......... .......... .......... .......... .......... 96% 92.8M 0s\n",
            "  1750K .......... .......... .......... .......... .......... 98%  105M 0s\n",
            "  1800K .......... .......... .                               100% 76.7M=0.07s\n",
            "\n",
            "2023-12-02 19:24:27 (24.0 MB/s) - ‘Chinook_Sqlite.sql’ saved [1864746/1864746]\n",
            "\n"
          ]
        }
      ]
    },
    {
      "cell_type": "code",
      "source": [
        "%%bash\n",
        "sqlite3 Chinook.db < Chinook_Sqlite.sql"
      ],
      "metadata": {
        "id": "xmJGHMZP_JB5"
      },
      "execution_count": null,
      "outputs": []
    },
    {
      "cell_type": "code",
      "source": [
        "%%bash\n",
        "sqlite3 Chinook.db \"SELECT * FROM Artist LIMIT 10;\""
      ],
      "metadata": {
        "colab": {
          "base_uri": "https://localhost:8080/"
        },
        "id": "q2SGLaEk_YH-",
        "outputId": "aa6ae98a-a315-443e-b60f-6ae6d1124513"
      },
      "execution_count": null,
      "outputs": [
        {
          "output_type": "stream",
          "name": "stdout",
          "text": [
            "1|AC/DC\n",
            "2|Accept\n",
            "3|Aerosmith\n",
            "4|Alanis Morissette\n",
            "5|Alice In Chains\n",
            "6|Antônio Carlos Jobim\n",
            "7|Apocalyptica\n",
            "8|Audioslave\n",
            "9|BackBeat\n",
            "10|Billy Cobham\n"
          ]
        }
      ]
    },
    {
      "cell_type": "code",
      "source": [
        "from langchain.llms import OpenAI\n",
        "from langchain.utilities import SQLDatabase\n",
        "from langchain_experimental.sql import SQLDatabaseChain\n",
        "\n",
        "\n",
        "# Connect to the Chinook database\n",
        "db = SQLDatabase.from_uri(\"sqlite:///Chinook.db\")\n",
        "llm = OpenAI(temperature=0, verbose=True)\n",
        "db_chain = SQLDatabaseChain.from_llm(llm, db, verbose=True)"
      ],
      "metadata": {
        "id": "pPpCUkpdz0bR"
      },
      "execution_count": null,
      "outputs": []
    },
    {
      "cell_type": "code",
      "source": [
        "import time\n",
        "\n",
        "try:\n",
        "    response = db_chain.run(\"How many employees are there, and who are the employees?\")\n",
        "    print(response)\n",
        "except Exception as e:\n",
        "    if \"RateLimitError\" in str(e):\n",
        "        print(\"Rate limit exceeded. Waiting before retrying...\")\n",
        "        time.sleep(60)\n",
        "        response = db_chain.run(\"How many employees are there?\")\n",
        "        print(response)\n",
        "    else:\n",
        "        raise"
      ],
      "metadata": {
        "colab": {
          "base_uri": "https://localhost:8080/"
        },
        "id": "cO-wOfb1z4zq",
        "outputId": "6bd127e3-5e8d-486a-9edf-9eb03fddfaf0"
      },
      "execution_count": null,
      "outputs": [
        {
          "output_type": "stream",
          "name": "stdout",
          "text": [
            "\n",
            "\n",
            "\u001b[1m> Entering new SQLDatabaseChain chain...\u001b[0m\n",
            "How many employees are there, and who are the employees?\n",
            "SQLQuery:\u001b[32;1m\u001b[1;3mSELECT COUNT(*), \"FirstName\", \"LastName\" FROM \"Employee\" LIMIT 5;\u001b[0m\n",
            "SQLResult: \u001b[33;1m\u001b[1;3m[(8, 'Andrew', 'Adams')]\u001b[0m\n",
            "Answer:\u001b[32;1m\u001b[1;3mThere are 8 employees, including Andrew Adams.\u001b[0m\n",
            "\u001b[1m> Finished chain.\u001b[0m\n",
            "There are 8 employees, including Andrew Adams.\n"
          ]
        }
      ]
    },
    {
      "cell_type": "code",
      "source": [
        "from langchain.chains import create_sql_query_chain\n",
        "from langchain.chat_models import ChatOpenAI\n",
        "\n",
        "chain = create_sql_query_chain(ChatOpenAI(temperature=0), db)\n",
        "query = chain.invoke({\"question\": \"what are the names of all the employees\"})\n",
        "print(query)\n",
        "\n",
        "print(db.run(query))"
      ],
      "metadata": {
        "colab": {
          "base_uri": "https://localhost:8080/"
        },
        "id": "7_F4sPmz1wr-",
        "outputId": "ab468fac-6606-4b49-bc69-8d3615aa48fe"
      },
      "execution_count": null,
      "outputs": [
        {
          "output_type": "stream",
          "name": "stdout",
          "text": [
            "SELECT \"FirstName\", \"LastName\" FROM \"Employee\"\n",
            "[('Andrew', 'Adams'), ('Nancy', 'Edwards'), ('Jane', 'Peacock'), ('Margaret', 'Park'), ('Steve', 'Johnson'), ('Michael', 'Mitchell'), ('Robert', 'King'), ('Laura', 'Callahan')]\n"
          ]
        }
      ]
    },
    {
      "cell_type": "code",
      "source": [
        "from langchain.agents import create_sql_agent\n",
        "from langchain.agents.agent_toolkits import SQLDatabaseToolkit\n",
        "from langchain.agents.agent_types import AgentType\n",
        "\n",
        "agent_executor = create_sql_agent(\n",
        "    llm=OpenAI(temperature=0),\n",
        "    toolkit=SQLDatabaseToolkit(db=db, llm=OpenAI(temperature=0)),\n",
        "    verbose=True,\n",
        "    agent_type=AgentType.ZERO_SHOT_REACT_DESCRIPTION,\n",
        ")\n",
        "\n",
        "print(agent_executor.run(\"Describe the playlisttrack table\"))"
      ],
      "metadata": {
        "colab": {
          "base_uri": "https://localhost:8080/"
        },
        "id": "LRM7gx3rAKTV",
        "outputId": "9796fc06-b839-4bd7-c0c3-15e7d0db5fea"
      },
      "execution_count": null,
      "outputs": [
        {
          "output_type": "stream",
          "name": "stdout",
          "text": [
            "\n",
            "\n",
            "\u001b[1m> Entering new AgentExecutor chain...\u001b[0m\n",
            "\u001b[32;1m\u001b[1;3mAction: sql_db_list_tables\n",
            "Action Input: \u001b[0m\n",
            "Observation: \u001b[38;5;200m\u001b[1;3mAlbum, Artist, Customer, Employee, Genre, Invoice, InvoiceLine, MediaType, Playlist, PlaylistTrack, Track\u001b[0m\n",
            "Thought:\u001b[32;1m\u001b[1;3m The PlaylistTrack table looks relevant, so I should query the schema of that table.\n",
            "Action: sql_db_schema\n",
            "Action Input: PlaylistTrack\u001b[0m\n",
            "Observation: \u001b[33;1m\u001b[1;3m\n",
            "CREATE TABLE \"PlaylistTrack\" (\n",
            "\t\"PlaylistId\" INTEGER NOT NULL, \n",
            "\t\"TrackId\" INTEGER NOT NULL, \n",
            "\tPRIMARY KEY (\"PlaylistId\", \"TrackId\"), \n",
            "\tFOREIGN KEY(\"TrackId\") REFERENCES \"Track\" (\"TrackId\"), \n",
            "\tFOREIGN KEY(\"PlaylistId\") REFERENCES \"Playlist\" (\"PlaylistId\")\n",
            ")\n",
            "\n",
            "/*\n",
            "3 rows from PlaylistTrack table:\n",
            "PlaylistId\tTrackId\n",
            "1\t3402\n",
            "1\t3389\n",
            "1\t3390\n",
            "*/\u001b[0m\n",
            "Thought:\u001b[32;1m\u001b[1;3m I now know the final answer\n",
            "Final Answer: The PlaylistTrack table contains two columns, PlaylistId and TrackId, which are both integers and form a primary key. It also has two foreign keys, one to the Track table and one to the Playlist table.\u001b[0m\n",
            "\n",
            "\u001b[1m> Finished chain.\u001b[0m\n",
            "The PlaylistTrack table contains two columns, PlaylistId and TrackId, which are both integers and form a primary key. It also has two foreign keys, one to the Track table and one to the Playlist table.\n"
          ]
        }
      ]
    }
  ]
}